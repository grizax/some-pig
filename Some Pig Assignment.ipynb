{
 "metadata": {
  "name": "",
  "signature": "sha256:a1bd88ba9e6f1ffdf7f629eed8369fdc583c8ba970e95ced96c07acc1024b273"
 },
 "nbformat": 3,
 "nbformat_minor": 0,
 "worksheets": [
  {
   "cells": [
    {
     "cell_type": "heading",
     "level": 1,
     "metadata": {},
     "source": [
      "Abstract"
     ]
    },
    {
     "cell_type": "markdown",
     "metadata": {},
     "source": [
      "The object of the jeopardy dice game Pig is to be the first player to reach 100 points. Each turn, a player repeatedly rolls a die until either a 1 is rolled or the player holds and scores the sum of the rolls (i.e., the turn total). At any time during a player\u2019s turn, the player is faced with two choices: roll or hold. If the player rolls a 1, the player scores nothing and it becomes the opponent\u2019s turn. If the player rolls a number other than 1, the number is added to the player\u2019s turn total and the player\u2019s turn continues. If the player instead chooses to hold, the turn total is added to the player\u2019s score and it becomes the opponent\u2019s turn.\n",
      "\n",
      "The game of Pig is simple to describe, but is it simple to play well? More specifically, how can we play\n",
      "the game optimally? Knizia describes simple tactics where each roll is viewed as a bet that a 1 will\n",
      "not be rolled:\n",
      "\n",
      "\"...we know that the true odds of such a bet are 1 to 5. If you ask yourself how much you\n",
      "should risk, you need to know how much there is to gain. A successful throw produces one\n",
      "of the numbers 2, 3, 4, 5, and 6. On average, you will gain four points. If you put 20 points\n",
      "at stake this brings the odds to 4 to 20, that is 1 to 5, and makes a fair game. ...Whenever\n",
      "your accumulated points are less than 20, you should continue throwing, because the odds\n",
      "are in your favor.\"\n",
      "\n",
      "However, Knizia also notes that there are many circumstances in which one should deviate from this\n",
      "\u201chold at 20\u201d policy. Why does this reasoning not dictate an optimal policy for all play? The reason is\n",
      "that risking points is not the same as risking the probability of winning.\n",
      "\n",
      "\n",
      "Thanks to:\n",
      "    \n",
      "\"Practical Play of Pig\"\n",
      "\n",
      "Practical Play of the Dice Game Pig\n",
      "\n",
      "Todd W. Neller & Clifton G.M. Presser"
     ]
    },
    {
     "cell_type": "code",
     "collapsed": false,
     "input": [
      "import math\n",
      "import random\n",
      "import matplotlib.pyplot as plt\n",
      "import statistics as st\n",
      "import seaborn\n",
      "\n",
      "%matplotlib inline"
     ],
     "language": "python",
     "metadata": {},
     "outputs": []
    },
    {
     "cell_type": "code",
     "collapsed": false,
     "input": [
      "def die_6():\n",
      "    return random.randint(1, 6)"
     ],
     "language": "python",
     "metadata": {},
     "outputs": [],
     "prompt_number": 210
    },
    {
     "cell_type": "code",
     "collapsed": false,
     "input": [
      "class Game:\n",
      "    \n",
      "    def __init__(self, player):\n",
      "        self.player = player\n",
      "        self.player_turns = 7\n",
      "        self.running_score = 0\n",
      "        self.player_turn_score = 0\n",
      "    \n",
      "    def roll(self):\n",
      "        roll = die_6()\n",
      "        return roll\n",
      "    \n",
      "    def turn(self):\n",
      "        self.player.turn_count += 1\n",
      "        current_roll = self.roll()\n",
      "        if current_roll == 1:\n",
      "            self.player_turn_score = 0\n",
      "            self.running_score = 0\n",
      "            self.player_turns -= 1\n",
      "            return self.running_score\n",
      "        else:\n",
      "            self.running_score += current_roll\n",
      "            self.player_turn_score += current_roll\n",
      "        if self.player.roll_or_stand(self.player.turn_count, self.player_turn_score):\n",
      "            self.turn()\n",
      "        else:\n",
      "            self.player_turn_score = 0\n",
      "            self.player_turns -= 1\n",
      "            return self.running_score\n",
      "        \n",
      "    def full_game(self):\n",
      "        while self.player_turns > 0:\n",
      "            self.turn()\n",
      "            self.player.score += self.running_score\n",
      "            self.player.turn_count = 0\n",
      "            self.player_turn_score = 0\n",
      "            self.running_score = 0\n",
      "        return self.player.score"
     ],
     "language": "python",
     "metadata": {},
     "outputs": [],
     "prompt_number": 211
    },
    {
     "cell_type": "code",
     "collapsed": false,
     "input": [
      "class Player: \n",
      "    def __init__(self):\n",
      "        self.score = 0\n",
      "        self.turn_count = 0\n",
      "        self.turn_score = 0\n",
      "        \n",
      "    def roll_or_stand(self, turn_count, turn_score):\n",
      "        return False"
     ],
     "language": "python",
     "metadata": {},
     "outputs": [],
     "prompt_number": 212
    },
    {
     "cell_type": "heading",
     "level": 3,
     "metadata": {},
     "source": [
      "Control Player\n"
     ]
    },
    {
     "cell_type": "code",
     "collapsed": false,
     "input": [
      "def game_control(trials=1000):\n",
      "    score_results = []\n",
      "    for _ in range(trials):\n",
      "        game = Game(Player())\n",
      "        score_results.append(game.full_game())\n",
      "    return score_results"
     ],
     "language": "python",
     "metadata": {},
     "outputs": [],
     "prompt_number": 213
    },
    {
     "cell_type": "code",
     "collapsed": false,
     "input": [
      "control_player_results = game_control()\n",
      "control_mean = st.mean(control_player_results)\n",
      "normal_stdev = st.stdev(control_player_results)"
     ],
     "language": "python",
     "metadata": {},
     "outputs": [],
     "prompt_number": 214
    },
    {
     "cell_type": "code",
     "collapsed": false,
     "input": [
      "plt.hist(control_player_results, bins=90,)\n",
      "plt.xlabel(\"Score\")\n",
      "plt.ylabel(\"Count\")\n",
      "ymin, ymax = plt.ylim()\n",
      "plt.vlines(normal_mean, ymin, ymax)\n",
      "plt.vlines([normal_mean - 1 * normal_stdev, normal_mean - normal_stdev, normal_mean + normal_stdev, normal_mean + 1 * normal_stdev]\n",
      "           , ymin, ymax, linestyles=\"dashed\")\n",
      "plt.title(\"Control Player Total Scores\\n Mean: {} \\nStandard Deviation: {} \".format(normal_mean, normal_stdev))\n",
      "plt.show()"
     ],
     "language": "python",
     "metadata": {},
     "outputs": [
      {
       "metadata": {},
       "output_type": "display_data",
       "png": "[encoded data removed]",
       "text": [
        "<matplotlib.figure.Figure at 0x110c58748>"
       ]
      }
     ],
     "prompt_number": 252
    },
    {
     "cell_type": "heading",
     "level": 3,
     "metadata": {},
     "source": [
      "Strategy: Hold at 20 points"
     ]
    },
    {
     "cell_type": "code",
     "collapsed": false,
     "input": [
      "class Hold_at_score_20(Player):\n",
      "    def roll_or_stand(self, turn_count, turn_score):\n",
      "        if turn_score >= 20:\n",
      "            return False\n",
      "        else:\n",
      "            return True"
     ],
     "language": "python",
     "metadata": {},
     "outputs": [],
     "prompt_number": 216
    },
    {
     "cell_type": "code",
     "collapsed": false,
     "input": [
      "def game_iterate_20_score(trials=1000):\n",
      "    score_results = []\n",
      "    for _ in range(trials):\n",
      "        game = Game(Hold_at_score_20())\n",
      "        score_results.append(game.full_game())\n",
      "    return score_results"
     ],
     "language": "python",
     "metadata": {},
     "outputs": [],
     "prompt_number": 217
    },
    {
     "cell_type": "code",
     "collapsed": false,
     "input": [
      "score_20_results = game_iterate_20_score()\n",
      "score_20_mean = st.mean(score_20_results)\n",
      "score_20_stdev = st.stdev(score_20_results)"
     ],
     "language": "python",
     "metadata": {},
     "outputs": [],
     "prompt_number": 218
    },
    {
     "cell_type": "code",
     "collapsed": false,
     "input": [
      "plt.hist(score_20_results, bins=90)\n",
      "plt.xlabel(\"Score\")\n",
      "plt.ylabel(\"Count\")\n",
      "ymin, ymax = plt.ylim()\n",
      "plt.vlines(score_20_mean, ymin, ymax)\n",
      "plt.vlines([score_20_mean - 1 * score_20_stdev, score_20_mean - score_20_stdev, score_20_mean + score_20_stdev, \n",
      "            score_20_mean + 1 * score_20_stdev], ymin, ymax, linestyles=\"dashed\")\n",
      "plt.title(\"Player Holds at Score of 20\\n Mean: {} \\nStandard Deviation: {} \".format(score_20_mean, score_20_stdev))\n",
      "plt.show()"
     ],
     "language": "python",
     "metadata": {},
     "outputs": [
      {
       "metadata": {},
       "output_type": "display_data",
       "png": "[encoded data removed]",
       "text": [
        "<matplotlib.figure.Figure at 0x110cd1630>"
       ]
      }
     ],
     "prompt_number": 250
    },
    {
     "cell_type": "raw",
     "metadata": {},
     "source": []
    },
    {
     "cell_type": "code",
     "collapsed": false,
     "input": [
      "class CoolStrategy(Player):\n",
      "    def roll_or_stand(self, turn_count, turn_score, running_score):\n",
      "        if running_score <= 71:\n",
      "            return True\n",
      "        elif turn_score == 25:\n",
      "            return False"
     ],
     "language": "python",
     "metadata": {},
     "outputs": [],
     "prompt_number": 253
    },
    {
     "cell_type": "code",
     "collapsed": false,
     "input": [
      "def game_iterate_cool_score(trials=1000):\n",
      "    score_results = []\n",
      "    for _ in range(trials):\n",
      "        game = Game(Player())\n",
      "        score_results.append(game.full_game())\n",
      "    return score_results"
     ],
     "language": "python",
     "metadata": {},
     "outputs": [],
     "prompt_number": 254
    },
    {
     "cell_type": "code",
     "collapsed": false,
     "input": [
      "score_cool_results = game_iterate_cool_score()\n",
      "score_cool_mean = st.mean(score_cool_results)\n",
      "score_cool_stdev = st.stdev(score_cool_results)"
     ],
     "language": "python",
     "metadata": {},
     "outputs": [],
     "prompt_number": 255
    },
    {
     "cell_type": "code",
     "collapsed": false,
     "input": [
      "plt.hist(score_cool_results, bins=90)\n",
      "plt.xlabel(\"Score\")\n",
      "plt.ylabel(\"Count\")\n",
      "ymin, ymax = plt.ylim()\n",
      "plt.vlines(score_cool_mean, ymin, ymax,)\n",
      "plt.vlines([score_cool_mean - 1 * score_cool_stdev, score_cool_mean - score_cool_stdev, score_cool_mean + score_cool_stdev, \n",
      "            score_cool_mean + 1 * score_cool_stdev], ymin, ymax, linestyles=\"dashed\")\n",
      "plt.title(\"Player Holds at Score of 20\\n Mean: {} \\nStandard Deviation: {} \".format(score_cool_mean, score_cool_stdev))\n",
      "plt.show()"
     ],
     "language": "python",
     "metadata": {},
     "outputs": [
      {
       "metadata": {},
       "output_type": "display_data",
       "png": "[encoded data removed]",
       "text": [
        "<matplotlib.figure.Figure at 0x1110d1208>"
       ]
      }
     ],
     "prompt_number": 256
    },
    {
     "cell_type": "heading",
     "level": 2,
     "metadata": {},
     "source": [
      "Comparison"
     ]
    },
    {
     "cell_type": "code",
     "collapsed": false,
     "input": [
      "plt.boxplot([control_player_results, score_20_results, score_cool_results])\n",
      "ymin, ymax = plt.ylim()\n",
      "plt.ylim(ymin, ymax)\n",
      "plt.title(\"Pig Solitaire Strategies\")\n",
      "plt.ylabel(\"Score\")\n",
      "plt.xticks(range(1,4), [\"Control\", \"Hold at 20\", \"Cool Try\"])\n",
      "plt.show()"
     ],
     "language": "python",
     "metadata": {},
     "outputs": [
      {
       "metadata": {},
       "output_type": "display_data",
       "png": "[encoded data removed]",
       "text": [
        "<matplotlib.figure.Figure at 0x110b437b8>"
       ]
      }
     ],
     "prompt_number": 257
    },
    {
     "cell_type": "heading",
     "level": 1,
     "metadata": {},
     "source": [
      "Conclusion"
     ]
    },
    {
     "cell_type": "markdown",
     "metadata": {},
     "source": [
      "The \u201cHold at 20\u201d policy for playing Pig is good for maximizing expected points per turn and winning the game. I do not claim to have found the best human-playable policy for Pig. \n",
      "\n",
      "The \u201ckeep pace and end race\u201d policy can provide a good approximation to optimal play of many jeopardy games. Value iteration, policy comparison, and Monte Carlo methods may be used to find the best policy parameters."
     ]
    }
   ],
   "metadata": {}
  }
 ]
}